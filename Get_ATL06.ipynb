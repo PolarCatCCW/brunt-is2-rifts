{
 "cells": [
  {
   "cell_type": "code",
   "execution_count": 1,
   "metadata": {},
   "outputs": [],
   "source": [
    "import os\n",
    "import shutil\n",
    "import h5py\n",
    "import matplotlib.pyplot as plt\n",
    "import icepyx as ipx\n"
   ]
  },
  {
   "cell_type": "code",
   "execution_count": 7,
   "metadata": {},
   "outputs": [],
   "source": [
    "short_name = 'ATL06'\n",
    "\n",
    "# spatial_extent = [-26.5, -75.8, -24.5, -75.3] # Brunt\n",
    "# spatial_extent = [-27.8, -76.1, -23.1, -75.2] # Bigger Brunt\n",
    "spatial_extent = [-27.8, -76.1, -3.0, -70.2] # brunt-riiser-ekstrom\n",
    "# spatial_extent = [-3.0,-71.5, 39.5, -68.6] # Fimbul\n",
    "# spatial_extent = [67.6, -72.44,74.87,-68.39] # Amery\n",
    "# spatial_extent = [159, -86, 180, -69] # East Ross\n",
    "# spatial_extent = [-180, -86, -140, -77] # West Ross\n",
    "# spatial_extent = [-65.5,-68.7,-60.2,-66] # Larsen C\n",
    "# spatial_extent = [-82.0, 82.4, -79.5, 82.9] # Milne\n",
    "#WSNE\n",
    "\n",
    "date_range = ['2018-10-14','2020-12-01']\n",
    "# ipx.Query(short_name, spatial_extent, date_range)\n",
    "region_a = ipx.Query(short_name, spatial_extent, date_range)\n",
    "earthdata_uid = 'therealbradlipovsky'\n",
    "email = 'brad_lipovsky@fas.harvard.edu'\n",
    "region_a.earthdata_login(earthdata_uid, email)"
   ]
  },
  {
   "cell_type": "code",
   "execution_count": 3,
   "metadata": {},
   "outputs": [
    {
     "ename": "NameError",
     "evalue": "name 'region_a' is not defined",
     "output_type": "error",
     "traceback": [
      "\u001b[0;31m---------------------------------------------------------------------------\u001b[0m",
      "\u001b[0;31mNameError\u001b[0m                                 Traceback (most recent call last)",
      "\u001b[0;32m<ipython-input-3-cec47681e489>\u001b[0m in \u001b[0;36m<module>\u001b[0;34m\u001b[0m\n\u001b[0;32m----> 1\u001b[0;31m \u001b[0mregion_a\u001b[0m\u001b[0;34m.\u001b[0m\u001b[0morder_vars\u001b[0m\u001b[0;34m.\u001b[0m\u001b[0mappend\u001b[0m\u001b[0;34m(\u001b[0m\u001b[0mvar_list\u001b[0m\u001b[0;34m=\u001b[0m\u001b[0;34m[\u001b[0m\u001b[0;34m'seg_azimuth'\u001b[0m\u001b[0;34m,\u001b[0m\u001b[0;34m'latitude'\u001b[0m\u001b[0;34m,\u001b[0m\u001b[0;34m'latitude'\u001b[0m\u001b[0;34m,\u001b[0m\u001b[0;34m'h_li'\u001b[0m\u001b[0;34m,\u001b[0m\u001b[0;34m'h_li_sigma'\u001b[0m\u001b[0;34m]\u001b[0m\u001b[0;34m)\u001b[0m\u001b[0;34m\u001b[0m\u001b[0;34m\u001b[0m\u001b[0m\n\u001b[0m\u001b[1;32m      2\u001b[0m \u001b[0mprint\u001b[0m\u001b[0;34m(\u001b[0m\u001b[0mregion_a\u001b[0m\u001b[0;34m.\u001b[0m\u001b[0morder_vars\u001b[0m\u001b[0;34m.\u001b[0m\u001b[0mwanted\u001b[0m\u001b[0;34m)\u001b[0m\u001b[0;34m\u001b[0m\u001b[0;34m\u001b[0m\u001b[0m\n",
      "\u001b[0;31mNameError\u001b[0m: name 'region_a' is not defined"
     ]
    }
   ],
   "source": [
    "region_a.order_vars.append(var_list=['seg_azimuth','latitude','latitude','h_li','h_li_sigma'])\n",
    "print(region_a.order_vars.wanted)"
   ]
  },
  {
   "cell_type": "code",
   "execution_count": null,
   "metadata": {},
   "outputs": [],
   "source": [
    "region_a.visualize_spatial_extent()"
   ]
  },
  {
   "cell_type": "code",
   "execution_count": null,
   "metadata": {},
   "outputs": [],
   "source": [
    "region_a.download_granules('/Users/lipovsky/is2-data/brunt-riiser-ekstrom/')"
   ]
  },
  {
   "cell_type": "code",
   "execution_count": null,
   "metadata": {},
   "outputs": [],
   "source": []
  }
 ],
 "metadata": {
  "kernelspec": {
   "display_name": "Python 3",
   "language": "python",
   "name": "python3"
  },
  "language_info": {
   "codemirror_mode": {
    "name": "ipython",
    "version": 3
   },
   "file_extension": ".py",
   "mimetype": "text/x-python",
   "name": "python",
   "nbconvert_exporter": "python",
   "pygments_lexer": "ipython3",
   "version": "3.7.9"
  }
 },
 "nbformat": 4,
 "nbformat_minor": 4
}
